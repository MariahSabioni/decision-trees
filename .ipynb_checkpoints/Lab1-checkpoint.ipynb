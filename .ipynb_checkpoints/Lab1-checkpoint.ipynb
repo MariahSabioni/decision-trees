{
 "cells": [
  {
   "cell_type": "markdown",
   "id": "9798cd52",
   "metadata": {},
   "source": [
    "## DD2421 Machine Learning - Lab 1: Decision Trees  \n",
    "Haocheng Zhang & Mariah Sabioni"
   ]
  },
  {
   "cell_type": "markdown",
   "id": "c39a0930",
   "metadata": {},
   "source": [
    "### Assignment 0\n",
    "Each one of the datasets has properties which makes\n",
    "them hard to learn. Motivate which of the three problems is most\n",
    "difficult for a decision tree algorithm to learn."
   ]
  },
  {
   "cell_type": "markdown",
   "id": "35688e24",
   "metadata": {},
   "source": [
    "The most difficult problem would be problem 2, because on this problem there is no \"best question\" to start the tree and you cannot terminate the tree and \"throw away\" any of the features to define the class label, therefore the tree has an exponential number of nodes.  \n",
    "The algorithm has to ask 6 questions, one for each feature, because knowing one answer does not change the probability of the next (there are no redundant features).  \n",
    "It is also interesting to notice that it is the only of the problems that was not expressed in logic form. It would tke quite a number of lines to do that."
   ]
  },
  {
   "cell_type": "markdown",
   "id": "bf0c20b4",
   "metadata": {},
   "source": [
    "### Assignment 1\n",
    "The file dtree.py defines a function entropy which\n",
    "calculates the entropy of a dataset. Import this file along with the\n",
    "monks datasets and use it to calculate the entropy of the training\n",
    "datasets."
   ]
  },
  {
   "cell_type": "code",
   "execution_count": null,
   "id": "b37cb58a",
   "metadata": {},
   "outputs": [],
   "source": [
    "from dtree import entropy, averageGain, select, bestAttribute, buildTree, check, mostCommon, allPruned\n",
    "from drawtree_qt5 import drawTree\n",
    "import monkdata as m\n",
    "import random\n",
    "import numpy as np\n",
    "import matplotlib.pyplot as plt\n",
    "from tabulate import tabulate\n",
    "import seaborn as sns\n",
    "import pandas as pd"
   ]
  },
  {
   "cell_type": "code",
   "execution_count": null,
   "id": "dcd4a2ec",
   "metadata": {},
   "outputs": [],
   "source": [
    "dataset_names = ['MONK-1', 'MONK-2', 'MONK-3']"
   ]
  },
  {
   "cell_type": "code",
   "execution_count": null,
   "id": "3a1d4203",
   "metadata": {},
   "outputs": [],
   "source": [
    "ent1 = entropy(m.monk1)\n",
    "ent2 = entropy(m.monk2)\n",
    "ent3 = entropy(m.monk3)\n",
    "ents = [ent1, ent2, ent3]"
   ]
  },
  {
   "cell_type": "code",
   "execution_count": null,
   "id": "079d6a73",
   "metadata": {},
   "outputs": [],
   "source": [
    "print(tabulate({\"Dataset\": dataset_names,\"Entropy\": ents}, headers=\"keys\", tablefmt=\"github\"))"
   ]
  },
  {
   "cell_type": "markdown",
   "id": "58eedfcd",
   "metadata": {},
   "source": [
    "### Assignment 2\n",
    "Explain entropy for a uniform distribution and a\n",
    "non-uniform distribution, present some example distributions with\n",
    "high and low entropy."
   ]
  },
  {
   "cell_type": "markdown",
   "id": "baf150be",
   "metadata": {},
   "source": [
    "Entropy in simple terms is a measurement of chaos. Therefore the higher the unpredictability, the higher the entropy.\n",
    "* Uniform distributions:  \n",
    "Dice (or the honest ones) have uniform distributions. However, if you compare a 6-side die and a 20-side die, the entropy is bigger for the 20-side die. That is because it is harder to know the outcome for the 20-side than it is for the 6-side (if you guess, you have less chance to be right on the 20-side).\n",
    "* Non-uniform distributions:  \n",
    "A fake coin is an example of a non-uniform distribution. In that case, the \"faker\" (i.e., the larger the probability of one of the sides), the lower the entropy. That makes sense, since it becomes easier to know the outcome, therefore the uncertainty is lower.\n",
    "* Uniform vs. non-uniform distributions:  \n",
    "If we compare the honest and the fake coin (uniform and non-uniform, respectively), the entropy will be lower for the fake coin. That is because the bias reduces the uncertainty. In fact, the uniform distribution contains the higher uncertainty (= higher entropy). "
   ]
  },
  {
   "cell_type": "markdown",
   "id": "7248a040",
   "metadata": {},
   "source": [
    "### Assignment 3\n",
    "Use the function averageGain (defined in dtree.py)\n",
    "to calculate the expected information gain corresponding to each of\n",
    "the six attributes. Note that the attributes are represented as instances of the class Attribute (defined in monkdata.py) which you can access via m.attributes[0], ..., m.attributes[5]. Based on\n",
    "the results, which attribute should be used for splitting the examples\n",
    "at the root node?"
   ]
  },
  {
   "cell_type": "code",
   "execution_count": null,
   "id": "5272fc52",
   "metadata": {},
   "outputs": [],
   "source": [
    "datasets = [m.monk1, m.monk2, m.monk3]\n",
    "gains = []\n",
    "for i, dataset in enumerate(datasets):\n",
    "    gain = {}\n",
    "    gain['dataset'] = dataset_names[i]\n",
    "    for attribute in m.attributes:\n",
    "        gain[attribute] = averageGain(dataset, attribute)\n",
    "    gains.append(gain)\n",
    "print(tabulate(gains, headers=\"keys\", tablefmt=\"github\"))"
   ]
  },
  {
   "cell_type": "code",
   "execution_count": null,
   "id": "64afbc0e",
   "metadata": {},
   "outputs": [],
   "source": [
    "print('The root node should provide the largest information gain calculated above:')\n",
    "for i, _ in enumerate(gains):\n",
    "    gain_values = []\n",
    "    gain_attributes = []\n",
    "    for attribute in m.attributes:\n",
    "        gain_values.append(gains[i][attribute])\n",
    "        gain_attributes.append(attribute)\n",
    "    print(f'{dataset_names[i]}: root node {gain_attributes[gain_values.index(max(gain_values))]} | '\n",
    "          + f'information gain = {max(gain_values)}')"
   ]
  },
  {
   "cell_type": "code",
   "execution_count": null,
   "id": "9806d6fd",
   "metadata": {},
   "outputs": [],
   "source": [
    "best_attribute = []\n",
    "print('Or, using the defined bestAttribute function:')\n",
    "for i, dataset in enumerate(datasets):\n",
    "    best_attribute = bestAttribute(dataset, m.attributes)\n",
    "    print(f'{dataset_names[i]}: root node {best_attribute}')"
   ]
  },
  {
   "cell_type": "markdown",
   "id": "1b3c492e",
   "metadata": {},
   "source": [
    "### Assignment 4\n",
    "For splitting we choose the attribute that maximizes\n",
    "the information gain, Eq.3. Looking at Eq.3 how does the entropy of\n",
    "the subsets, Sk, look like when the information gain is maximized?\n",
    "How can we motivate using the information gain as a heuristic for\n",
    "picking an attribute for splitting? Think about reduction in entropy\n",
    "after the split and what the entropy implies."
   ]
  },
  {
   "cell_type": "code",
   "execution_count": null,
   "id": "358996f0",
   "metadata": {},
   "outputs": [],
   "source": [
    "for i, dataset in enumerate(datasets):\n",
    "    best_attribute = bestAttribute(dataset, m.attributes)\n",
    "    print(f'{dataset_names[i]}')\n",
    "    print(f'> attribute: {best_attribute}')\n",
    "    print(f'> entropy before split: S = {ents[i]}')\n",
    "    print(f'> entropy after split:') \n",
    "    for k, v in enumerate(best_attribute.values):\n",
    "        subset = select(dataset, attribute, v)\n",
    "        subset_entropy = entropy(subset)\n",
    "        print(f'>> S{k}({best_attribute}={v}) = {subset_entropy}')\n",
    "    print(f'> information gain after split: {averageGain(dataset, best_attribute)}') "
   ]
  },
  {
   "cell_type": "code",
   "execution_count": null,
   "id": "e6d71906",
   "metadata": {},
   "outputs": [],
   "source": [
    "for i, dataset in enumerate(datasets):\n",
    "    print('__________________________________________________________________')\n",
    "    print(f'{dataset_names[i]}')\n",
    "    best_attribute = bestAttribute(dataset, m.attributes)\n",
    "    print(f'> entropy before split: S = {ents[i]}')\n",
    "    print('------------------------------------------------------------------')\n",
    "    for attribute in m.attributes:\n",
    "        if(attribute == best_attribute):\n",
    "            print(f'> BEST ATTRIBUTE: {attribute}')\n",
    "        else:\n",
    "            print(f'> attribute: {attribute}')\n",
    "        print(f'> entropy after split:') \n",
    "        for k, v in enumerate(attribute.values):\n",
    "            subset = select(dataset, attribute, v)\n",
    "            subset_entropy = entropy(subset)\n",
    "            print(f'>> S{k}({best_attribute}={v}) = {subset_entropy}')\n",
    "        print(f'> information gain after split: {averageGain(dataset, attribute)}') \n",
    "        print('------------------------------------------------------------------')"
   ]
  },
  {
   "cell_type": "markdown",
   "id": "13f68ac3",
   "metadata": {},
   "source": [
    "The information gain is maximized when the entropy of the subsets Sk relative to the entropy of the original dataset S is reduced by the largest amount.  \n",
    "Entropy is a measurement of uncertainty. Therefore, the attibute with larger information gain represents the attribute that, when known, provides subsets with less uncertainty (=less entropy).\n",
    "It means that when we use that variable to split the dataset, we know more about the subsets (less random = easier to predict). This allows the construction of a simpler model with better predictive power."
   ]
  },
  {
   "cell_type": "code",
   "execution_count": null,
   "id": "1b4a1d00",
   "metadata": {},
   "outputs": [],
   "source": [
    "dataset = datasets[0]\n",
    "best_attribute = bestAttribute(dataset, m.attributes)\n",
    "remaining_attributes = [a for a in m.attributes if a != best_attribute]\n",
    "subsets = []\n",
    "subset_names = []\n",
    "gains_sub = []\n",
    "for k, v in enumerate(best_attribute.values):\n",
    "    subset = select(dataset, best_attribute, v)\n",
    "    subsets.append(subset)\n",
    "    subset_names.append(dataset_names[0] + \"_subset-\" + str(k))\n",
    "print(f'{dataset_names[0]}')\n",
    "for i, subset in enumerate(subsets):\n",
    "    gain_sub = {}\n",
    "    gain_sub['subset'] = subset_names[i]\n",
    "    for attribute in remaining_attributes:\n",
    "        gain_sub[attribute] = averageGain(subset, attribute)\n",
    "    gains_sub.append(gain_sub)\n",
    "print(tabulate(gains_sub, headers=\"keys\", tablefmt=\"github\"))"
   ]
  },
  {
   "cell_type": "code",
   "execution_count": null,
   "id": "a220678c",
   "metadata": {
    "scrolled": true
   },
   "outputs": [],
   "source": [
    "print('Custom built tree (using bestAttribute and mostCommon functions:')\n",
    "print('__________________________________________________________________')\n",
    "print(f'{dataset_names[0]}')\n",
    "print(f'> Node 1: {best_attribute}')\n",
    "print(f'> information gain after split: {averageGain(dataset, best_attribute)}') \n",
    "print(f'> majority class: {mostCommon(dataset)}') \n",
    "for i, subset in enumerate(subsets):\n",
    "    best_attribute = bestAttribute(subset, remaining_attributes)\n",
    "    print('------------------------------------------------------------------')\n",
    "    print(f'> {subset_names[i]}')\n",
    "    print(f'>> Node 2: {best_attribute}')\n",
    "    print(f'>> information gain after split: {averageGain(subset, best_attribute)}')\n",
    "    print(f'>> majority class: {mostCommon(subset)}') \n",
    "    sub_subsets = []\n",
    "    sub_subset_names = []\n",
    "    for k, v in enumerate(best_attribute.values):\n",
    "        sub_subset = select(subset, best_attribute, v)\n",
    "        sub_subsets.append(sub_subset)\n",
    "        sub_subset_names.append(subset_names[i] + \"_subset-\" + str(k))\n",
    "    for j, sub_subset in enumerate(sub_subsets):\n",
    "        print('..................................................................')\n",
    "        print(f'>> {sub_subset_names[j]}')\n",
    "        print(f'>>> majority class: {mostCommon(sub_subset)}') "
   ]
  },
  {
   "cell_type": "code",
   "execution_count": null,
   "id": "4a440424",
   "metadata": {},
   "outputs": [],
   "source": [
    "tree = buildTree(dataset, m.attributes, maxdepth=2)\n",
    "print('predefined routine tree:')\n",
    "print(tree)\n",
    "#print(drawTree(tree)) #this kills the kernel"
   ]
  },
  {
   "cell_type": "markdown",
   "id": "83f5cf58",
   "metadata": {},
   "source": [
    "### Assignment 5\n",
    "Build the full decision trees for all three Monk\n",
    "datasets using buildTree. Then, use the function check to measure the performance of the decision tree on both the training and\n",
    "test datasets.\n",
    "Compute the train and test set errors for the three Monk datasets\n",
    "for the full trees. Were your assumptions about the datasets correct?\n",
    "Explain the results you get for the training and test datasets."
   ]
  },
  {
   "cell_type": "code",
   "execution_count": null,
   "id": "4fba61e3",
   "metadata": {},
   "outputs": [],
   "source": [
    "test_datasets = [m.monk1test, m.monk2test, m.monk3test]\n",
    "performances = []\n",
    "for i, dataset in enumerate(datasets):\n",
    "    t = buildTree(dataset, m.attributes);\n",
    "    print(f'{dataset_names[i]}:')\n",
    "    print(t)\n",
    "    performance = {}\n",
    "    performance['dataset'] = dataset_names[i]\n",
    "    performance['Performance_train'] = check(t, dataset)\n",
    "    performance['Error_train'] = 1 - performance['Performance_train']\n",
    "    performance['Performance_test'] = check(t, test_datasets[i])\n",
    "    performance['Error_test'] = 1 - performance['Performance_test']\n",
    "    performances.append(performance)"
   ]
  },
  {
   "cell_type": "code",
   "execution_count": null,
   "id": "d959a899",
   "metadata": {},
   "outputs": [],
   "source": [
    "print(tabulate(performances, headers=\"keys\", tablefmt=\"github\"))"
   ]
  },
  {
   "cell_type": "markdown",
   "id": "72cc4569",
   "metadata": {},
   "source": [
    "The assumption that dataset MONK-2 would be the most difficult one seems correct since it has both the most complet model (tree with more nodes) and the biggest error on the test dataset (even though the 3rd dataset is the one that contains noise!).\n",
    "\n",
    "All the errors are zero for the train dataset, which indicates that the model successfully learned from the train dataset. However, the error is not zero on the test sets, which means that the model does not generalize well, and is probably overfitting the training data. Besides, MONK-3 contains noise (misclassified samples) which will increase the error."
   ]
  },
  {
   "cell_type": "code",
   "execution_count": null,
   "id": "0e429c78",
   "metadata": {},
   "outputs": [],
   "source": [
    "def partition(data, fraction):\n",
    "    ldata = list(data)\n",
    "    random.shuffle(ldata)\n",
    "    breakPoint = int(len(ldata) * fraction)\n",
    "    return ldata[:breakPoint], ldata[breakPoint:]"
   ]
  },
  {
   "cell_type": "code",
   "execution_count": null,
   "id": "77a41a63",
   "metadata": {},
   "outputs": [],
   "source": [
    "monk1train, monk1val = partition(m.monk1, 0.6)"
   ]
  },
  {
   "cell_type": "code",
   "execution_count": null,
   "id": "8cb8d197",
   "metadata": {},
   "outputs": [],
   "source": [
    "def prunAndCheck(tree, val_dataset, train_dataset, print_console = True):\n",
    "    num_pruns = 0\n",
    "    acc = 0\n",
    "    while True:\n",
    "        print(f'Prunning iteration {num_pruns}...') if (print_console) else None\n",
    "        prunned_trees = allPruned(tree)\n",
    "        prunned_accs = [check(t, val_dataset) for t in prunned_trees]\n",
    "        max_prunned_acc = max(prunned_accs)\n",
    "        if (max_prunned_acc < acc):\n",
    "            print(f'No tree better than pervious iteration') if (print_console) else None\n",
    "            break\n",
    "        print(f'Tree update! new: {max_prunned_acc} | previous: {acc}') if (print_console) else None\n",
    "        tree = prunned_trees[prunned_accs.index(max_prunned_acc)]\n",
    "        acc = max_prunned_acc\n",
    "        acc_train = check(tree, train_dataset)\n",
    "        num_pruns += 1\n",
    "    return tree, acc, acc_train, num_pruns"
   ]
  },
  {
   "cell_type": "code",
   "execution_count": null,
   "id": "60f8b4c5",
   "metadata": {},
   "outputs": [],
   "source": [
    "original_tree = buildTree(monk1train, m.attributes)\n",
    "original_acc_val = check(original_tree, monk1val)\n",
    "original_acc_train = check(original_tree, monk1train)\n",
    "tree = original_tree\n",
    "\n",
    "tree, acc_val, acc_train, num_pruns = prunAndCheck(tree, monk1val, monk1train)"
   ]
  },
  {
   "cell_type": "code",
   "execution_count": null,
   "id": "3365e463",
   "metadata": {},
   "outputs": [],
   "source": [
    "print(f'> original tree: {original_tree}')\n",
    "print(f'performance on train set: {original_acc_train}')\n",
    "print(f'performance on validation set: {original_acc_val}')\n",
    "print(f'performance on test set: {check(original_tree, m.monk1test)}')\n",
    "print(f'> best tree: {tree}')\n",
    "print(f'performance on train set: {acc_train}')\n",
    "print(f'performance on validation set: {acc_val}')\n",
    "print(f'performance on test set: {check(tree, m.monk1test)}')\n",
    "print(f'> number of pruns = {num_pruns}')"
   ]
  },
  {
   "cell_type": "markdown",
   "id": "aaa0fbc4",
   "metadata": {},
   "source": [
    "Observations:\n",
    "- Re-running the code from cell 15 onwards shows that the \"optimal\" result of prunning is subject to high variation depending on the split of train and validation sets.\n",
    "- The result has a lower performance on the train set, but a higher performance on the validation set, which is the intended outcome of prunning, since the validation is the strategy to prevent overfitting.\n",
    "- However, the prunned tree has a worse performance on the test set then the original tree, which shows that in this case pruning was not the best strategy."
   ]
  },
  {
   "cell_type": "markdown",
   "id": "daee83da",
   "metadata": {},
   "source": [
    "### Assignment 6\n",
    "Explain pruning from a bias variance trade-off perspective."
   ]
  },
  {
   "cell_type": "markdown",
   "id": "bf221b32",
   "metadata": {},
   "source": [
    "Ideally a model seeks low variance and low bias, but unfortunately there is a trade-off between the two (increasing bias reduces variance and vice versa).  \n",
    "The variance is determined by the depth of the tree. Deeper desision trees are more complex, have higher variance and higher chance of overfitting.  \n",
    "Prunning is a technique that allows the reduction of the model's complexity minimizing lost of predictive power. It is a effective approach to prevent overfitting. However, the bias is increased, which can lead to decreased performance in more complex problems."
   ]
  },
  {
   "cell_type": "markdown",
   "id": "72f1ba8d",
   "metadata": {},
   "source": [
    "### Assignment 7\n",
    "Evaluate the effect pruning has on the test error for\n",
    "the monk1 and monk3 datasets, in particular determine the optimal\n",
    "partition into training and pruning by optimizing the parameter\n",
    "fraction. Plot the classification error on the test sets as a function\n",
    "of the parameter fraction ∈ {0.3, 0.4, 0.5, 0.6, 0.7, 0.8}.\n",
    "\n",
    "Note that the split of the data is random. We therefore need to\n",
    "compute the statistics over several runs of the split to be able to draw\n",
    "any conclusions. Reasonable statistics includes mean and a measure\n",
    "of the spread. Do remember to print axes labels, legends and data\n",
    "points as you will not pass without them."
   ]
  },
  {
   "cell_type": "code",
   "execution_count": null,
   "id": "0497ab68",
   "metadata": {},
   "outputs": [],
   "source": [
    "def optimizeTree(dataset, test_dataset, iterations):\n",
    "    test_es = []\n",
    "    val_es = []\n",
    "    fractions = [0.3,0.4,0.5,0.6,0.7,0.8]\n",
    "    for fraction in fractions:\n",
    "        e_test_fraction = []\n",
    "        e_val_fraction = []\n",
    "        for times in range(iterations):\n",
    "            monktrain, monkval = partition(dataset, fraction)\n",
    "            tree = buildTree(monktrain, m.attributes)\n",
    "            best_tree, acc_val, _, _ = prunAndCheck(tree, monkval, monktrain, print_console = False)\n",
    "            e_test = 1 - check(best_tree, test_dataset)\n",
    "            e_test_fraction.append(e_test)\n",
    "            e_val_fraction.append(1 - acc_val)\n",
    "        test_es.append(np.array(e_test_fraction))\n",
    "        val_es.append(e_val_fraction)\n",
    "    return test_es, val_es"
   ]
  },
  {
   "cell_type": "code",
   "execution_count": null,
   "id": "40f43989",
   "metadata": {},
   "outputs": [],
   "source": [
    "test_es_1, val_es_1 = optimizeTree(m.monk1,m.monk1test, 100)"
   ]
  },
  {
   "cell_type": "code",
   "execution_count": null,
   "id": "c84a6676",
   "metadata": {},
   "outputs": [],
   "source": [
    "fractions = [0.3,0.4,0.5,0.6,0.7,0.8]\n",
    "errors_1 = []\n",
    "for i, fraction in enumerate(fractions):\n",
    "    error_1 = {}\n",
    "    error_1['fraction'] = fraction\n",
    "    error_1['Error_val'] = np.mean(np.array(val_es_1)[i])\n",
    "    error_1['Error_test'] = np.mean(np.array(test_es_1)[i])\n",
    "    errors_1.append(error_1)"
   ]
  },
  {
   "cell_type": "code",
   "execution_count": null,
   "id": "5f0d3187",
   "metadata": {},
   "outputs": [],
   "source": [
    "fig, axes = plt.subplots(1, 2, sharey=True, figsize=(10,5))\n",
    "fig.suptitle('MONK-1')\n",
    "\n",
    "ax = sns.boxplot(ax=axes[0], data=val_es_1)\n",
    "axes[0].set_title('Validation set')\n",
    "axes[0].set_xticklabels(fractions)\n",
    "axes[0].set(xlabel=\"fractions\",ylabel=\"Error\")\n",
    "\n",
    "sns.boxplot(ax=axes[1], data=test_es_1)\n",
    "axes[1].set_title('Test set')\n",
    "axes[1].set_xticklabels(fractions)\n",
    "plt.show()\n",
    "\n",
    "print(tabulate(errors_1, headers=\"keys\", tablefmt=\"github\"))"
   ]
  },
  {
   "cell_type": "code",
   "execution_count": null,
   "id": "a418e836",
   "metadata": {},
   "outputs": [],
   "source": [
    "test_es_3, val_es_3 = optimizeTree(m.monk3,m.monk3test, 100)"
   ]
  },
  {
   "cell_type": "code",
   "execution_count": null,
   "id": "fc0f949e",
   "metadata": {},
   "outputs": [],
   "source": [
    "fractions = [0.3,0.4,0.5,0.6,0.7,0.8]\n",
    "errors_3 = []\n",
    "for i, fraction in enumerate(fractions):\n",
    "    error_3 = {}\n",
    "    error_3['fraction'] = fraction\n",
    "    error_3['Error_val'] = np.mean(np.array(val_es_3)[i])\n",
    "    error_3['Error_test'] = np.mean(np.array(test_es_3)[i])\n",
    "    errors_3.append(error_3)"
   ]
  },
  {
   "cell_type": "code",
   "execution_count": null,
   "id": "5540b3d2",
   "metadata": {},
   "outputs": [],
   "source": [
    "fig, axes = plt.subplots(1, 2, sharey=True, figsize=(10,5))\n",
    "fig.suptitle('MONK-3')\n",
    "\n",
    "ax = sns.boxplot(ax=axes[0], data=val_es_3)\n",
    "axes[0].set_title('Validation set')\n",
    "axes[0].set_xticklabels(fractions)\n",
    "axes[0].set(xlabel=\"fractions\",ylabel=\"Error\")\n",
    "\n",
    "sns.boxplot(ax=axes[1], data=test_es_3)\n",
    "axes[1].set_title('Test set')\n",
    "axes[1].set_xticklabels(fractions)\n",
    "plt.show()\n",
    "\n",
    "print(tabulate(errors_3, headers=\"keys\", tablefmt=\"github\"))"
   ]
  },
  {
   "cell_type": "code",
   "execution_count": null,
   "id": "d0454916",
   "metadata": {},
   "outputs": [],
   "source": []
  }
 ],
 "metadata": {
  "kernelspec": {
   "display_name": "Python 3 (ipykernel)",
   "language": "python",
   "name": "python3"
  },
  "language_info": {
   "codemirror_mode": {
    "name": "ipython",
    "version": 3
   },
   "file_extension": ".py",
   "mimetype": "text/x-python",
   "name": "python",
   "nbconvert_exporter": "python",
   "pygments_lexer": "ipython3",
   "version": "3.10.5"
  }
 },
 "nbformat": 4,
 "nbformat_minor": 5
}
