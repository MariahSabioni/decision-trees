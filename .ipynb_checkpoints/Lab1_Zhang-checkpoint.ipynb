{
 "cells": [
  {
   "cell_type": "code",
   "execution_count": 2,
   "id": "ad90b606",
   "metadata": {},
   "outputs": [],
   "source": [
    "from dtree import entropy, averageGain, select, bestAttribute, buildTree, check, mostCommon, allPruned\n",
    "from drawtree_qt5 import drawTree\n",
    "import monkdata as m\n",
    "import random\n",
    "import numpy as np\n",
    "import matplotlib.pyplot as plt"
   ]
  },
  {
   "cell_type": "markdown",
   "id": "4869a74c",
   "metadata": {},
   "source": [
    "Assignment 0\n",
    "\n",
    "Difficult to learn for monk 2. Cause if you calculate it you need 6 sequences of questions.3 for monk1 and 3 for monk3."
   ]
  },
  {
   "cell_type": "markdown",
   "id": "5b376ed0",
   "metadata": {},
   "source": [
    "Assignment 1"
   ]
  },
  {
   "cell_type": "code",
   "execution_count": 3,
   "id": "e219e7aa",
   "metadata": {},
   "outputs": [
    {
     "name": "stdout",
     "output_type": "stream",
     "text": [
      "1.0 0.957117428264771 0.9998061328047111\n"
     ]
    }
   ],
   "source": [
    "monk1 = m.monk1\n",
    "monk2 = m.monk2\n",
    "monk3 = m.monk3\n",
    "ent1 = entropy(monk1)\n",
    "ent2 = entropy(monk2)\n",
    "ent3 = entropy(monk3)\n",
    "print(ent1,ent2,ent3)"
   ]
  },
  {
   "cell_type": "markdown",
   "id": "840d9957",
   "metadata": {},
   "source": [
    "Assignment 2\n",
    "\n",
    "Information entropy is to measure how chaotic the information is, or to put it in a simple way, how hard you can make a decision from the distribution. \n",
    "\n",
    "For uniform distribution, all the choice has equal possibility, which makes it more unpredictable and that makes the entropy to be high. For example, a two-side coin,\n",
    "\n",
    "For non-uniform distribution, there is one or more choices with higher possibility. The result is less unpredictable. As a consequence, the entropy is lower. For example, a normal distribution owns a high entrophy. \n"
   ]
  },
  {
   "cell_type": "markdown",
   "id": "28f1b02b",
   "metadata": {},
   "source": [
    "Assignment 3"
   ]
  },
  {
   "cell_type": "code",
   "execution_count": 4,
   "id": "f093bc1b",
   "metadata": {},
   "outputs": [
    {
     "name": "stdout",
     "output_type": "stream",
     "text": [
      " MONK-1:[0.07527255560831925, 0.005838429962909286, 0.00470756661729721, 0.02631169650768228, 0.28703074971578435, 0.0007578557158638421]\n",
      " MONK-2:[0.0037561773775118823, 0.0024584986660830532, 0.0010561477158920196, 0.015664247292643818, 0.01727717693791797, 0.006247622236881467]\n",
      " MONK-3:[0.007120868396071844, 0.29373617350838865, 0.0008311140445336207, 0.002891817288654397, 0.25591172461972755, 0.007077026074097326]\n"
     ]
    }
   ],
   "source": [
    "training_set = [monk1, monk2, monk3]\n",
    "gains = []\n",
    "for i in (training_set):\n",
    "    for j in range(len(m.attributes)):\n",
    "        info_gain = averageGain(i, m.attributes[j])\n",
    "        gains.append(info_gain)\n",
    "monk1_gain = gains[0:len(m.attributes)]\n",
    "monk2_gain = gains[len(m.attributes):2*len(m.attributes)]\n",
    "monk3_gain = gains[2*len(m.attributes):]\n",
    "assert(len(monk1_gain)==len(monk2_gain)==len(monk3_gain))\n",
    "print(\" MONK-1:{0}\\n MONK-2:{1}\\n MONK-3:{2}\".format(monk1_gain, monk2_gain, monk3_gain)) "
   ]
  },
  {
   "cell_type": "markdown",
   "id": "62db836d",
   "metadata": {},
   "source": [
    "Assignment 4\n",
    "\n",
    "The entropy of Sk will be decreased. Since the entropy of the whole system is decreased, , the subset in each branches will be more pure and less random.\n",
    "\n",
    "We should split the attribute that gives the highest information gain. In this case, the whole randomness will be decreased as much as possible. The subset is purer and more homogenous, making it easy to predict.\n"
   ]
  },
  {
   "cell_type": "code",
   "execution_count": 20,
   "id": "8c49ca77",
   "metadata": {},
   "outputs": [
    {
     "name": "stdout",
     "output_type": "stream",
     "text": [
      "A5-1-A1-1-True\n",
      "A5-1-A1-2-True\n",
      "A5-1-A1-3-True\n",
      "A5-2-A4-1-False\n",
      "A5-2-A4-2-False\n",
      "A5-2-A4-3-False\n",
      "A5-3-A6-1-False\n",
      "A5-3-A6-2-False\n",
      "A5-4-A1-1-False\n",
      "A5-4-A1-2-False\n",
      "A5-4-A1-3-True\n"
     ]
    }
   ],
   "source": [
    "subsets = {}\n",
    "subattrs = {}\n",
    "attr_level_1 = m.attributes[5-1] # first choose a5, from assign 3\n",
    "remaining_attrs = list(m.attributes)\n",
    "del remaining_attrs[5-1]\n",
    "\n",
    "for value in attr_level_1.values:\n",
    "    subset = select(m.monk1, attr_level_1, value)\n",
    "    subsets[f'A5-{value}'] = subset\n",
    "    subattrs[f'A5-{value}'] = bestAttribute(subset, remaining_attrs)\n",
    "\n",
    "for idx in subsets.keys():\n",
    "    subset = subsets[idx]\n",
    "    attr = subattrs[idx]\n",
    "    for value in attr.values:\n",
    "        subsubset = select(subset, attr, value)\n",
    "        label = mostCommon(subsubset)\n",
    "        info = idx+\"-\" + attr.name+\"-\" + str(value)+ \"-\" + str(label)\n",
    "        print(info) "
   ]
  },
  {
   "cell_type": "code",
   "execution_count": 21,
   "id": "3336d2d6",
   "metadata": {},
   "outputs": [
    {
     "name": "stdout",
     "output_type": "stream",
     "text": [
      "A5(+A4(---)A6(--)A1(--+))\n"
     ]
    }
   ],
   "source": [
    "t = buildTree(monk1,m.attributes,2)\n",
    "print(t)"
   ]
  },
  {
   "cell_type": "markdown",
   "id": "2e4063b8",
   "metadata": {},
   "source": [
    "Assignment 5"
   ]
  },
  {
   "cell_type": "code",
   "execution_count": 9,
   "id": "72b54acb",
   "metadata": {},
   "outputs": [
    {
     "name": "stdout",
     "output_type": "stream",
     "text": [
      "MONK-1: Etrain: 0.0, Etest: 0.17129629629629628\n",
      "MONK-2: Etrain: 0.0, Etest: 0.30787037037037035\n",
      "MONK-3: Etrain: 0.0, Etest: 0.05555555555555558\n",
      "\n"
     ]
    }
   ],
   "source": [
    "t1 = buildTree(monk1, m.attributes)\n",
    "t2 = buildTree(monk2, m.attributes)\n",
    "t3 = buildTree(monk3, m.attributes)\n",
    "Etrain_monk1 = check(t1, monk1)\n",
    "Etrain_monk2 = check(t2, monk2)\n",
    "Etrain_monk3 = check(t3, monk3)\n",
    "Etest_monk1 = check(t1, m.monk1test)\n",
    "Etest_monk2 = check(t2, m.monk2test)\n",
    "Etest_monk3 = check(t3, m.monk3test)\n",
    "print(\"MONK-1: Etrain: {0}, Etest: {1}\\nMONK-2: Etrain: {2}, Etest: {3}\\nMONK-3: Etrain: {4}, Etest: {5}\\n\".format(1-Etrain_monk1,1-Etest_monk1,1-Etrain_monk2,1-Etest_monk2,1-Etrain_monk3,1-Etest_monk3 ))"
   ]
  },
  {
   "cell_type": "code",
   "execution_count": null,
   "id": "48b32f16",
   "metadata": {},
   "outputs": [],
   "source": []
  }
 ],
 "metadata": {
  "kernelspec": {
   "display_name": "Python 3 (ipykernel)",
   "language": "python",
   "name": "python3"
  },
  "language_info": {
   "codemirror_mode": {
    "name": "ipython",
    "version": 3
   },
   "file_extension": ".py",
   "mimetype": "text/x-python",
   "name": "python",
   "nbconvert_exporter": "python",
   "pygments_lexer": "ipython3",
   "version": "3.10.5"
  }
 },
 "nbformat": 4,
 "nbformat_minor": 5
}
